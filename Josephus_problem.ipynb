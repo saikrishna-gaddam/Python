{
 "cells": [
  {
   "cell_type": "raw",
   "metadata": {},
   "source": [
    "This problem is Josephus problem\n",
    "More information can be found at the following wikipedia link\n",
    "https://en.wikipedia.org/wiki/Josephus_problem"
   ]
  },
  {
   "cell_type": "code",
   "execution_count": 2,
   "metadata": {
    "collapsed": true
   },
   "outputs": [],
   "source": [
    "def whoLives(n):\n",
    "    for i in range(0,n):\n",
    "        if(2**i>n):\n",
    "            i=i-1\n",
    "            L = n-(2**i)\n",
    "            return(2*L+1)\n",
    "    return(\"Out of loop\")"
   ]
  },
  {
   "cell_type": "raw",
   "metadata": {},
   "source": [
    "Type number of persons standing in circle below in function whoLives"
   ]
  },
  {
   "cell_type": "code",
   "execution_count": 3,
   "metadata": {
    "collapsed": false
   },
   "outputs": [
    {
     "name": "stdout",
     "output_type": "stream",
     "text": [
      "45\n"
     ]
    }
   ],
   "source": [
    "print(whoLives(150))"
   ]
  },
  {
   "cell_type": "code",
   "execution_count": null,
   "metadata": {
    "collapsed": true
   },
   "outputs": [],
   "source": []
  }
 ],
 "metadata": {
  "kernelspec": {
   "display_name": "Python 3",
   "language": "python",
   "name": "python3"
  },
  "language_info": {
   "codemirror_mode": {
    "name": "ipython",
    "version": 3
   },
   "file_extension": ".py",
   "mimetype": "text/x-python",
   "name": "python",
   "nbconvert_exporter": "python",
   "pygments_lexer": "ipython3",
   "version": "3.5.1"
  }
 },
 "nbformat": 4,
 "nbformat_minor": 0
}
